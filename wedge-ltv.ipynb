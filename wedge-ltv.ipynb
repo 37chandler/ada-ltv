{
 "cells": [
  {
   "cell_type": "markdown",
   "metadata": {},
   "source": [
    "## Wedge LTV\n",
    "\n",
    "This assignment builds on the example from the Dram Shop. Your goals are to build an LTV model and explain it."
   ]
  },
  {
   "cell_type": "code",
   "execution_count": null,
   "metadata": {},
   "outputs": [],
   "source": [
    "# Import necessary libraries\n",
    "import pandas as pd\n",
    "import numpy as np\n",
    "\n",
    "import matplotlib.pyplot as plt\n",
    "import seaborn as sns\n",
    "\n",
    "from lifetimes.utils import summary_data_from_transaction_data as summary\n",
    "from lifetimes import BetaGeoFitter, GammaGammaFitter\n",
    "\n",
    "from google.cloud import bigquery\n",
    "from google.oauth2 import service_account\n",
    "\n",
    "# Create a BigQuery client \n",
    "client = bigquery.Client()\n",
    "project_id = 'umt-msba' # Feel free to replace with your own project ID\n",
    "dataset_id = \"transactions\"\n"
   ]
  },
  {
   "cell_type": "code",
   "execution_count": null,
   "metadata": {},
   "outputs": [],
   "source": [
    "# Define your query\n",
    "customer_query = \"\"\"\n",
    "\n",
    "    -- Use this space to build a query that mimics the dram example. \n",
    "    -- We need the following columns: \n",
    "    -- 1. customer_id\n",
    "    -- 2. order_id\n",
    "    -- 3. a timestamp of the order\n",
    "    -- 4. the total amount of the order\n",
    "\n",
    "\"\"\"\n",
    "\n",
    "# Run the query and convert the results into a pandas DataFrame\n",
    "df = client.query(customer_query).to_dataframe()\n",
    "\n",
    "print(f\"Dataframe has {df.shape[0]} rows and {df.shape[1]} columns\")\n",
    "df.head()\n"
   ]
  },
  {
   "cell_type": "code",
   "execution_count": null,
   "metadata": {},
   "outputs": [],
   "source": []
  }
 ],
 "metadata": {
  "kernelspec": {
   "display_name": "base",
   "language": "python",
   "name": "python3"
  },
  "language_info": {
   "codemirror_mode": {
    "name": "ipython",
    "version": 3
   },
   "file_extension": ".py",
   "mimetype": "text/x-python",
   "name": "python",
   "nbconvert_exporter": "python",
   "pygments_lexer": "ipython3",
   "version": "3.12.4"
  }
 },
 "nbformat": 4,
 "nbformat_minor": 2
}
